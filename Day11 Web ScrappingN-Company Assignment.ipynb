{
 "cells": [
  {
   "cell_type": "markdown",
   "id": "6aa601d6",
   "metadata": {},
   "source": []
  },
  {
   "cell_type": "code",
   "execution_count": 1,
   "id": "23154345",
   "metadata": {},
   "outputs": [],
   "source": [
    "from autoscraper import AutoScraper\n",
    "import requests"
   ]
  },
  {
   "cell_type": "markdown",
   "id": "421274dd",
   "metadata": {},
   "source": [
    "# Send a get request to URL"
   ]
  },
  {
   "cell_type": "code",
   "execution_count": 2,
   "id": "9390f3c8",
   "metadata": {},
   "outputs": [],
   "source": [
    "url = \"https://in.seamsfriendly.com/collections/shorts\""
   ]
  },
  {
   "cell_type": "code",
   "execution_count": 3,
   "id": "884115ef",
   "metadata": {},
   "outputs": [],
   "source": [
    "A = requests.get(url)"
   ]
  },
  {
   "cell_type": "code",
   "execution_count": 4,
   "id": "7aa7d700",
   "metadata": {},
   "outputs": [
    {
     "data": {
      "text/plain": [
       "<Response [200]>"
      ]
     },
     "execution_count": 4,
     "metadata": {},
     "output_type": "execute_result"
    }
   ],
   "source": [
    "A"
   ]
  },
  {
   "cell_type": "markdown",
   "id": "bab0c870",
   "metadata": {},
   "source": [
    "# Get Raw HTML"
   ]
  },
  {
   "cell_type": "code",
   "execution_count": 5,
   "id": "8c77574f",
   "metadata": {},
   "outputs": [],
   "source": [
    "B = A.content"
   ]
  },
  {
   "cell_type": "markdown",
   "id": "d3558b62",
   "metadata": {},
   "source": [
    "# Parse Raw into proper HTML"
   ]
  },
  {
   "cell_type": "code",
   "execution_count": 6,
   "id": "a14a2ef9",
   "metadata": {},
   "outputs": [],
   "source": [
    "wantlist = [\"Beige Dabu Print Cotton Flared Shorts\",]"
   ]
  },
  {
   "cell_type": "code",
   "execution_count": null,
   "id": "4c0d6a63",
   "metadata": {},
   "outputs": [],
   "source": []
  },
  {
   "cell_type": "code",
   "execution_count": 8,
   "id": "7fe4d597",
   "metadata": {},
   "outputs": [
    {
     "name": "stdout",
     "output_type": "stream",
     "text": [
      "['Beige Dabu Print Cotton Flared Shorts', 'Brick Red Block Print Floral Hot Pants', 'Black Elasticated Short Cotton Boxers', 'Purple Flannel Convertible Pant Shorts', 'White Hand Beaded Short Cotton Shorts', 'Mauve Cotton Corduroy Baggy Shorts', 'Violet Striped Mangalgiri Cotton Shorts', 'Khaki Vegetable Dyed Handspun Short Shorts', 'Cotton Grey Striped Paperbag Shorts', 'Melon Orange Handspun Mirror Work Shorts', 'Vegetable Dyed Off-White Paneled Shorts', 'Indigo Cotton Denim Paneled Shorts', 'Floral Block Print Comfort Fit Shorts', 'Handspun Brown Flared Shorts', 'Yellow Vegetable Dyed Handspun Short Shorts', 'Teal Solid Cotton Short Shorts', 'Kashish Dabu Print High-Rise Comfort Fit Shorts', 'Powder Blue Checkered Handspun Shorts', 'Blue Vegetable Dyed Straight Fit Shorts', 'Block Printed Striped Boxer Shorts', 'Bottle Green Handspun Cotton Short Shorts', 'Cotton Beige Striped Paperbag Shorts', 'Dusk Beige Cotton Corduroy Baggy Shorts', 'Bagru Block Print Mustard Straight Shorts']\n"
     ]
    }
   ],
   "source": [
    "scraper = AutoScraper()\n",
    "resu = scraper.build(url,wantlist)\n",
    "print(resu)"
   ]
  },
  {
   "cell_type": "code",
   "execution_count": 9,
   "id": "cfd29751",
   "metadata": {},
   "outputs": [],
   "source": [
    "wantlist1 = [\"https://cdn.shopify.com/s/files/1/0534/2501/2925/products/beige-dabu-print-cotton-flared-shorts-flared-shorts-193530_600x.jpg?v=1625847290\"]"
   ]
  },
  {
   "cell_type": "code",
   "execution_count": 10,
   "id": "2c3320d0",
   "metadata": {},
   "outputs": [
    {
     "name": "stdout",
     "output_type": "stream",
     "text": [
      "['https://cdn.shopify.com/s/files/1/0534/2501/2925/products/beige-dabu-print-cotton-flared-shorts-flared-shorts-193530_600x.jpg?v=1625847290', 'https://cdn.shopify.com/s/files/1/0534/2501/2925/products/brick-red-mid-rise-hot-pants-hot-pants-shorts-329598_600x.jpg?v=1626171553', 'https://cdn.shopify.com/s/files/1/0534/2501/2925/products/black-elasticated-short-boxers-short-shorts-591242_600x.jpg?v=1625848026', 'https://cdn.shopify.com/s/files/1/0534/2501/2925/products/WSRT48AShot1_600x.jpg?v=1642053487', 'https://cdn.shopify.com/s/files/1/0534/2501/2925/products/white-hand-beaded-short-shorts-short-shorts-244024_600x.jpg?v=1625990991', 'https://cdn.shopify.com/s/files/1/0534/2501/2925/products/mauve-cotton-corduroy-baggy-shorts-baggy-shorts-701908_600x.jpg?v=1625990578', 'https://cdn.shopify.com/s/files/1/0534/2501/2925/products/violet-mangalgiri-cotton-short-shorts-short-shorts-603837_600x.jpg?v=1625991042', 'https://cdn.shopify.com/s/files/1/0534/2501/2925/products/khakhi-vegetable-dyed-handspun-short-shorts-short-shorts-683178_600x.jpg?v=1626083172', 'https://cdn.shopify.com/s/files/1/0534/2501/2925/products/cotton-grey-striped-paperbag-shorts-paperbag-shorts-213255_600x.jpg?v=1625849646', 'https://cdn.shopify.com/s/files/1/0534/2501/2925/products/melon-orange-handspun-mirror-work-shorts-straight-shorts-828968_600x.jpg?v=1626279953', 'https://cdn.shopify.com/s/files/1/0534/2501/2925/products/vegetable-dyed-off-white-paneled-shorts-paneled-shorts-120047_600x.jpg?v=1626283687', 'https://cdn.shopify.com/s/files/1/0534/2501/2925/products/indigo-cotton-denim-paneled-shorts-paneled-shorts-298788_600x.jpg?v=1611240888', 'https://cdn.shopify.com/s/files/1/0534/2501/2925/products/floral-bagru-printed-short-shorts-short-shorts-756458_600x.jpg?v=1625850454', 'https://cdn.shopify.com/s/files/1/0534/2501/2925/products/handspun-brown-flared-shorts-flared-shorts-171324_600x.jpg?v=1626080841', 'https://cdn.shopify.com/s/files/1/0534/2501/2925/products/yellow-vegetable-dyed-handspun-short-shorts-short-shorts-468816_600x.jpg?v=1626371454', 'https://cdn.shopify.com/s/files/1/0534/2501/2925/products/JNPR3321new_600x.jpg?v=1640845263', 'https://cdn.shopify.com/s/files/1/0534/2501/2925/products/kashish-dabu-print-high-rise-comfort-fit-shorts-short-shorts-688473_600x.jpg?v=1626279264', 'https://cdn.shopify.com/s/files/1/0534/2501/2925/products/powder-blue-checkered-handspun-shorts-straight-shorts-428206_600x.jpg?v=1625992472', 'https://cdn.shopify.com/s/files/1/0534/2501/2925/products/blue-vegetable-dyed-straight-fit-shorts-straight-shorts-966099_600x.jpg?v=1625850728', 'https://cdn.shopify.com/s/files/1/0534/2501/2925/products/elastic-waist-striped-short-shorts-short-short-632362_600x.jpg?v=1626188018', 'https://cdn.shopify.com/s/files/1/0534/2501/2925/products/6L3A1635copy_600x.jpg?v=1638421904', 'https://cdn.shopify.com/s/files/1/0534/2501/2925/products/cotton-beige-striped-paperbag-shorts-paperbag-shorts-846996_600x.jpg?v=1625992611', 'https://cdn.shopify.com/s/files/1/0534/2501/2925/products/dusk-beige-cotton-corduroy-baggy-shorts-baggy-shorts-226961_600x.jpg?v=1625992953', 'https://cdn.shopify.com/s/files/1/0534/2501/2925/products/mustard-paisley-straight-short-shorts-short-shorts-542898_600x.jpg?v=1625993460']\n"
     ]
    }
   ],
   "source": [
    "scraper = AutoScraper()\n",
    "resu1 = scraper.build(url,wantlist1)\n",
    "print(resu1)"
   ]
  },
  {
   "cell_type": "code",
   "execution_count": 11,
   "id": "578437cb",
   "metadata": {},
   "outputs": [],
   "source": [
    "url = \"https://in.seamsfriendly.com/collections/shorts\"\n",
    "wantlist2 = [\"Disclamer\"]"
   ]
  },
  {
   "cell_type": "code",
   "execution_count": 12,
   "id": "247aac70",
   "metadata": {},
   "outputs": [
    {
     "name": "stdout",
     "output_type": "stream",
     "text": [
      "[]\n"
     ]
    }
   ],
   "source": [
    "scraper = AutoScraper()\n",
    "resu2 = scraper.build(url,wantlist2)\n",
    "print(resu2)"
   ]
  },
  {
   "cell_type": "code",
   "execution_count": 23,
   "id": "00abc195",
   "metadata": {},
   "outputs": [],
   "source": [
    "import bs4\n",
    "url = \"https://in.seamsfriendly.com/\"\n",
    "A = requests.get(url)\n",
    "B = A.content\n",
    "soup = bs4.BeautifulSoup(B,\"html.parser\")\n",
    "\n",
    "\n",
    "art = \"\"\n",
    "for i in soup.find_all(\"div\", class_ =\"Rte\"):\n",
    "    art = art + i.text"
   ]
  },
  {
   "cell_type": "code",
   "execution_count": 24,
   "id": "274be911",
   "metadata": {},
   "outputs": [
    {
     "data": {
      "text/plain": [
       "\"\\nAt SeamsFriendly, we handcraft timeless, designer\\xa0apparel for all women, everywhere,\\xa0in all shapes and sizes. We Ship Worldwide!High-quality plant-based natural fabrics ensure that your clothes last longer. They're durable and minimize wastage.\\n\\nSign up and be\\xa0the first to browse our Newest Styles, and enjoy Promotions curated just-for-you.\\n\""
      ]
     },
     "execution_count": 24,
     "metadata": {},
     "output_type": "execute_result"
    }
   ],
   "source": [
    "art"
   ]
  },
  {
   "cell_type": "code",
   "execution_count": 30,
   "id": "5061af71",
   "metadata": {},
   "outputs": [
    {
     "data": {
      "text/html": [
       "<div>\n",
       "<style scoped>\n",
       "    .dataframe tbody tr th:only-of-type {\n",
       "        vertical-align: middle;\n",
       "    }\n",
       "\n",
       "    .dataframe tbody tr th {\n",
       "        vertical-align: top;\n",
       "    }\n",
       "\n",
       "    .dataframe thead th {\n",
       "        text-align: right;\n",
       "    }\n",
       "</style>\n",
       "<table border=\"1\" class=\"dataframe\">\n",
       "  <thead>\n",
       "    <tr style=\"text-align: right;\">\n",
       "      <th></th>\n",
       "      <th>title</th>\n",
       "      <th>imgrl</th>\n",
       "    </tr>\n",
       "  </thead>\n",
       "  <tbody>\n",
       "    <tr>\n",
       "      <th>0</th>\n",
       "      <td>Beige Dabu Print Cotton Flared Shorts</td>\n",
       "      <td>https://cdn.shopify.com/s/files/1/0534/2501/29...</td>\n",
       "    </tr>\n",
       "    <tr>\n",
       "      <th>1</th>\n",
       "      <td>Brick Red Block Print Floral Hot Pants</td>\n",
       "      <td>https://cdn.shopify.com/s/files/1/0534/2501/29...</td>\n",
       "    </tr>\n",
       "    <tr>\n",
       "      <th>2</th>\n",
       "      <td>Black Elasticated Short Cotton Boxers</td>\n",
       "      <td>https://cdn.shopify.com/s/files/1/0534/2501/29...</td>\n",
       "    </tr>\n",
       "    <tr>\n",
       "      <th>3</th>\n",
       "      <td>Purple Flannel Convertible Pant Shorts</td>\n",
       "      <td>https://cdn.shopify.com/s/files/1/0534/2501/29...</td>\n",
       "    </tr>\n",
       "    <tr>\n",
       "      <th>4</th>\n",
       "      <td>White Hand Beaded Short Cotton Shorts</td>\n",
       "      <td>https://cdn.shopify.com/s/files/1/0534/2501/29...</td>\n",
       "    </tr>\n",
       "    <tr>\n",
       "      <th>5</th>\n",
       "      <td>Mauve Cotton Corduroy Baggy Shorts</td>\n",
       "      <td>https://cdn.shopify.com/s/files/1/0534/2501/29...</td>\n",
       "    </tr>\n",
       "    <tr>\n",
       "      <th>6</th>\n",
       "      <td>Violet Striped Mangalgiri Cotton Shorts</td>\n",
       "      <td>https://cdn.shopify.com/s/files/1/0534/2501/29...</td>\n",
       "    </tr>\n",
       "    <tr>\n",
       "      <th>7</th>\n",
       "      <td>Khaki Vegetable Dyed Handspun Short Shorts</td>\n",
       "      <td>https://cdn.shopify.com/s/files/1/0534/2501/29...</td>\n",
       "    </tr>\n",
       "    <tr>\n",
       "      <th>8</th>\n",
       "      <td>Cotton Grey Striped Paperbag Shorts</td>\n",
       "      <td>https://cdn.shopify.com/s/files/1/0534/2501/29...</td>\n",
       "    </tr>\n",
       "    <tr>\n",
       "      <th>9</th>\n",
       "      <td>Melon Orange Handspun Mirror Work Shorts</td>\n",
       "      <td>https://cdn.shopify.com/s/files/1/0534/2501/29...</td>\n",
       "    </tr>\n",
       "    <tr>\n",
       "      <th>10</th>\n",
       "      <td>Vegetable Dyed Off-White Paneled Shorts</td>\n",
       "      <td>https://cdn.shopify.com/s/files/1/0534/2501/29...</td>\n",
       "    </tr>\n",
       "    <tr>\n",
       "      <th>11</th>\n",
       "      <td>Indigo Cotton Denim Paneled Shorts</td>\n",
       "      <td>https://cdn.shopify.com/s/files/1/0534/2501/29...</td>\n",
       "    </tr>\n",
       "    <tr>\n",
       "      <th>12</th>\n",
       "      <td>Floral Block Print Comfort Fit Shorts</td>\n",
       "      <td>https://cdn.shopify.com/s/files/1/0534/2501/29...</td>\n",
       "    </tr>\n",
       "    <tr>\n",
       "      <th>13</th>\n",
       "      <td>Handspun Brown Flared Shorts</td>\n",
       "      <td>https://cdn.shopify.com/s/files/1/0534/2501/29...</td>\n",
       "    </tr>\n",
       "    <tr>\n",
       "      <th>14</th>\n",
       "      <td>Yellow Vegetable Dyed Handspun Short Shorts</td>\n",
       "      <td>https://cdn.shopify.com/s/files/1/0534/2501/29...</td>\n",
       "    </tr>\n",
       "    <tr>\n",
       "      <th>15</th>\n",
       "      <td>Teal Solid Cotton Short Shorts</td>\n",
       "      <td>https://cdn.shopify.com/s/files/1/0534/2501/29...</td>\n",
       "    </tr>\n",
       "    <tr>\n",
       "      <th>16</th>\n",
       "      <td>Kashish Dabu Print High-Rise Comfort Fit Shorts</td>\n",
       "      <td>https://cdn.shopify.com/s/files/1/0534/2501/29...</td>\n",
       "    </tr>\n",
       "    <tr>\n",
       "      <th>17</th>\n",
       "      <td>Powder Blue Checkered Handspun Shorts</td>\n",
       "      <td>https://cdn.shopify.com/s/files/1/0534/2501/29...</td>\n",
       "    </tr>\n",
       "    <tr>\n",
       "      <th>18</th>\n",
       "      <td>Blue Vegetable Dyed Straight Fit Shorts</td>\n",
       "      <td>https://cdn.shopify.com/s/files/1/0534/2501/29...</td>\n",
       "    </tr>\n",
       "    <tr>\n",
       "      <th>19</th>\n",
       "      <td>Block Printed Striped Boxer Shorts</td>\n",
       "      <td>https://cdn.shopify.com/s/files/1/0534/2501/29...</td>\n",
       "    </tr>\n",
       "    <tr>\n",
       "      <th>20</th>\n",
       "      <td>Bottle Green Handspun Cotton Short Shorts</td>\n",
       "      <td>https://cdn.shopify.com/s/files/1/0534/2501/29...</td>\n",
       "    </tr>\n",
       "    <tr>\n",
       "      <th>21</th>\n",
       "      <td>Cotton Beige Striped Paperbag Shorts</td>\n",
       "      <td>https://cdn.shopify.com/s/files/1/0534/2501/29...</td>\n",
       "    </tr>\n",
       "    <tr>\n",
       "      <th>22</th>\n",
       "      <td>Dusk Beige Cotton Corduroy Baggy Shorts</td>\n",
       "      <td>https://cdn.shopify.com/s/files/1/0534/2501/29...</td>\n",
       "    </tr>\n",
       "    <tr>\n",
       "      <th>23</th>\n",
       "      <td>Bagru Block Print Mustard Straight Shorts</td>\n",
       "      <td>https://cdn.shopify.com/s/files/1/0534/2501/29...</td>\n",
       "    </tr>\n",
       "  </tbody>\n",
       "</table>\n",
       "</div>"
      ],
      "text/plain": [
       "                                              title  \\\n",
       "0             Beige Dabu Print Cotton Flared Shorts   \n",
       "1            Brick Red Block Print Floral Hot Pants   \n",
       "2             Black Elasticated Short Cotton Boxers   \n",
       "3            Purple Flannel Convertible Pant Shorts   \n",
       "4             White Hand Beaded Short Cotton Shorts   \n",
       "5                Mauve Cotton Corduroy Baggy Shorts   \n",
       "6           Violet Striped Mangalgiri Cotton Shorts   \n",
       "7        Khaki Vegetable Dyed Handspun Short Shorts   \n",
       "8               Cotton Grey Striped Paperbag Shorts   \n",
       "9          Melon Orange Handspun Mirror Work Shorts   \n",
       "10          Vegetable Dyed Off-White Paneled Shorts   \n",
       "11               Indigo Cotton Denim Paneled Shorts   \n",
       "12            Floral Block Print Comfort Fit Shorts   \n",
       "13                     Handspun Brown Flared Shorts   \n",
       "14      Yellow Vegetable Dyed Handspun Short Shorts   \n",
       "15                   Teal Solid Cotton Short Shorts   \n",
       "16  Kashish Dabu Print High-Rise Comfort Fit Shorts   \n",
       "17            Powder Blue Checkered Handspun Shorts   \n",
       "18          Blue Vegetable Dyed Straight Fit Shorts   \n",
       "19               Block Printed Striped Boxer Shorts   \n",
       "20        Bottle Green Handspun Cotton Short Shorts   \n",
       "21             Cotton Beige Striped Paperbag Shorts   \n",
       "22          Dusk Beige Cotton Corduroy Baggy Shorts   \n",
       "23        Bagru Block Print Mustard Straight Shorts   \n",
       "\n",
       "                                                imgrl  \n",
       "0   https://cdn.shopify.com/s/files/1/0534/2501/29...  \n",
       "1   https://cdn.shopify.com/s/files/1/0534/2501/29...  \n",
       "2   https://cdn.shopify.com/s/files/1/0534/2501/29...  \n",
       "3   https://cdn.shopify.com/s/files/1/0534/2501/29...  \n",
       "4   https://cdn.shopify.com/s/files/1/0534/2501/29...  \n",
       "5   https://cdn.shopify.com/s/files/1/0534/2501/29...  \n",
       "6   https://cdn.shopify.com/s/files/1/0534/2501/29...  \n",
       "7   https://cdn.shopify.com/s/files/1/0534/2501/29...  \n",
       "8   https://cdn.shopify.com/s/files/1/0534/2501/29...  \n",
       "9   https://cdn.shopify.com/s/files/1/0534/2501/29...  \n",
       "10  https://cdn.shopify.com/s/files/1/0534/2501/29...  \n",
       "11  https://cdn.shopify.com/s/files/1/0534/2501/29...  \n",
       "12  https://cdn.shopify.com/s/files/1/0534/2501/29...  \n",
       "13  https://cdn.shopify.com/s/files/1/0534/2501/29...  \n",
       "14  https://cdn.shopify.com/s/files/1/0534/2501/29...  \n",
       "15  https://cdn.shopify.com/s/files/1/0534/2501/29...  \n",
       "16  https://cdn.shopify.com/s/files/1/0534/2501/29...  \n",
       "17  https://cdn.shopify.com/s/files/1/0534/2501/29...  \n",
       "18  https://cdn.shopify.com/s/files/1/0534/2501/29...  \n",
       "19  https://cdn.shopify.com/s/files/1/0534/2501/29...  \n",
       "20  https://cdn.shopify.com/s/files/1/0534/2501/29...  \n",
       "21  https://cdn.shopify.com/s/files/1/0534/2501/29...  \n",
       "22  https://cdn.shopify.com/s/files/1/0534/2501/29...  \n",
       "23  https://cdn.shopify.com/s/files/1/0534/2501/29...  "
      ]
     },
     "execution_count": 30,
     "metadata": {},
     "output_type": "execute_result"
    }
   ],
   "source": [
    "import pandas as pd\n",
    "W = pd.DataFrame([resu,resu1]).T\n",
    "W.columns = [\"title\",\"imgrl\"]\n",
    "W"
   ]
  },
  {
   "cell_type": "code",
   "execution_count": 28,
   "id": "e14d11e8",
   "metadata": {},
   "outputs": [],
   "source": [
    "W.to_csv(\"seams.csv\")"
   ]
  },
  {
   "cell_type": "code",
   "execution_count": 161,
   "id": "a3c2cfee",
   "metadata": {},
   "outputs": [
    {
     "data": {
      "text/plain": [
       "[('Beige Dabu Print Cotton Flared Shorts',\n",
       "  'https://cdn.shopify.com/s/files/1/0534/2501/2925/products/beige-dabu-print-cotton-flared-shorts-flared-shorts-193530_600x.jpg?v=1625847290'),\n",
       " ('Brick Red Block Print Floral Hot Pants',\n",
       "  'https://cdn.shopify.com/s/files/1/0534/2501/2925/products/brick-red-mid-rise-hot-pants-hot-pants-shorts-329598_600x.jpg?v=1626171553'),\n",
       " ('Black Elasticated Short Cotton Boxers',\n",
       "  'https://cdn.shopify.com/s/files/1/0534/2501/2925/products/black-elasticated-short-boxers-short-shorts-591242_600x.jpg?v=1625848026'),\n",
       " ('Purple Flannel Convertible Pant Shorts',\n",
       "  'https://cdn.shopify.com/s/files/1/0534/2501/2925/products/WSRT48AShot1_600x.jpg?v=1642053487'),\n",
       " ('White Hand Beaded Short Cotton Shorts',\n",
       "  'https://cdn.shopify.com/s/files/1/0534/2501/2925/products/white-hand-beaded-short-shorts-short-shorts-244024_600x.jpg?v=1625990991'),\n",
       " ('Mauve Cotton Corduroy Baggy Shorts',\n",
       "  'https://cdn.shopify.com/s/files/1/0534/2501/2925/products/mauve-cotton-corduroy-baggy-shorts-baggy-shorts-701908_600x.jpg?v=1625990578'),\n",
       " ('Violet Striped Mangalgiri Cotton Shorts',\n",
       "  'https://cdn.shopify.com/s/files/1/0534/2501/2925/products/violet-mangalgiri-cotton-short-shorts-short-shorts-603837_600x.jpg?v=1625991042'),\n",
       " ('Khaki Vegetable Dyed Handspun Short Shorts',\n",
       "  'https://cdn.shopify.com/s/files/1/0534/2501/2925/products/khakhi-vegetable-dyed-handspun-short-shorts-short-shorts-683178_600x.jpg?v=1626083172'),\n",
       " ('Cotton Grey Striped Paperbag Shorts',\n",
       "  'https://cdn.shopify.com/s/files/1/0534/2501/2925/products/cotton-grey-striped-paperbag-shorts-paperbag-shorts-213255_600x.jpg?v=1625849646'),\n",
       " ('Melon Orange Handspun Mirror Work Shorts',\n",
       "  'https://cdn.shopify.com/s/files/1/0534/2501/2925/products/melon-orange-handspun-mirror-work-shorts-straight-shorts-828968_600x.jpg?v=1626279953'),\n",
       " ('Vegetable Dyed Off-White Paneled Shorts',\n",
       "  'https://cdn.shopify.com/s/files/1/0534/2501/2925/products/vegetable-dyed-off-white-paneled-shorts-paneled-shorts-120047_600x.jpg?v=1626283687'),\n",
       " ('Indigo Cotton Denim Paneled Shorts',\n",
       "  'https://cdn.shopify.com/s/files/1/0534/2501/2925/products/indigo-cotton-denim-paneled-shorts-paneled-shorts-298788_600x.jpg?v=1611240888'),\n",
       " ('Floral Block Print Comfort Fit Shorts',\n",
       "  'https://cdn.shopify.com/s/files/1/0534/2501/2925/products/floral-bagru-printed-short-shorts-short-shorts-756458_600x.jpg?v=1625850454'),\n",
       " ('Handspun Brown Flared Shorts',\n",
       "  'https://cdn.shopify.com/s/files/1/0534/2501/2925/products/handspun-brown-flared-shorts-flared-shorts-171324_600x.jpg?v=1626080841'),\n",
       " ('Yellow Vegetable Dyed Handspun Short Shorts',\n",
       "  'https://cdn.shopify.com/s/files/1/0534/2501/2925/products/yellow-vegetable-dyed-handspun-short-shorts-short-shorts-468816_600x.jpg?v=1626371454'),\n",
       " ('Teal Solid Cotton Short Shorts',\n",
       "  'https://cdn.shopify.com/s/files/1/0534/2501/2925/products/JNPR3321new_600x.jpg?v=1640845263'),\n",
       " ('Kashish Dabu Print High-Rise Comfort Fit Shorts',\n",
       "  'https://cdn.shopify.com/s/files/1/0534/2501/2925/products/kashish-dabu-print-high-rise-comfort-fit-shorts-short-shorts-688473_600x.jpg?v=1626279264'),\n",
       " ('Powder Blue Checkered Handspun Shorts',\n",
       "  'https://cdn.shopify.com/s/files/1/0534/2501/2925/products/powder-blue-checkered-handspun-shorts-straight-shorts-428206_600x.jpg?v=1625992472'),\n",
       " ('Blue Vegetable Dyed Straight Fit Shorts',\n",
       "  'https://cdn.shopify.com/s/files/1/0534/2501/2925/products/blue-vegetable-dyed-straight-fit-shorts-straight-shorts-966099_600x.jpg?v=1625850728'),\n",
       " ('Block Printed Striped Boxer Shorts',\n",
       "  'https://cdn.shopify.com/s/files/1/0534/2501/2925/products/elastic-waist-striped-short-shorts-short-short-632362_600x.jpg?v=1626188018'),\n",
       " ('Bottle Green Handspun Cotton Short Shorts',\n",
       "  'https://cdn.shopify.com/s/files/1/0534/2501/2925/products/6L3A1635copy_600x.jpg?v=1638421904'),\n",
       " ('Cotton Beige Striped Paperbag Shorts',\n",
       "  'https://cdn.shopify.com/s/files/1/0534/2501/2925/products/cotton-beige-striped-paperbag-shorts-paperbag-shorts-846996_600x.jpg?v=1625992611'),\n",
       " ('Dusk Beige Cotton Corduroy Baggy Shorts',\n",
       "  'https://cdn.shopify.com/s/files/1/0534/2501/2925/products/dusk-beige-cotton-corduroy-baggy-shorts-baggy-shorts-226961_600x.jpg?v=1625992953'),\n",
       " ('Bagru Block Print Mustard Straight Shorts',\n",
       "  'https://cdn.shopify.com/s/files/1/0534/2501/2925/products/mustard-paisley-straight-short-shorts-short-shorts-542898_600x.jpg?v=1625993460')]"
      ]
     },
     "execution_count": 161,
     "metadata": {},
     "output_type": "execute_result"
    }
   ],
   "source": [
    "list(zip(resu,resu1))"
   ]
  },
  {
   "cell_type": "code",
   "execution_count": null,
   "id": "1adbf7ae",
   "metadata": {},
   "outputs": [],
   "source": []
  }
 ],
 "metadata": {
  "kernelspec": {
   "display_name": "Python 3",
   "language": "python",
   "name": "python3"
  },
  "language_info": {
   "codemirror_mode": {
    "name": "ipython",
    "version": 3
   },
   "file_extension": ".py",
   "mimetype": "text/x-python",
   "name": "python",
   "nbconvert_exporter": "python",
   "pygments_lexer": "ipython3",
   "version": "3.8.8"
  }
 },
 "nbformat": 4,
 "nbformat_minor": 5
}
